{
 "cells": [
  {
   "cell_type": "code",
   "execution_count": 44,
   "metadata": {
    "execution": {
     "iopub.execute_input": "2023-08-05T16:47:51.863117Z",
     "iopub.status.busy": "2023-08-05T16:47:51.862579Z",
     "iopub.status.idle": "2023-08-05T16:47:51.868618Z",
     "shell.execute_reply": "2023-08-05T16:47:51.867531Z",
     "shell.execute_reply.started": "2023-08-05T16:47:51.863076Z"
    },
    "tags": []
   },
   "outputs": [],
   "source": [
    "import torch\n",
    "from torchvision import datasets, transforms\n",
    "from torch.utils.data import DataLoader\n",
    "import matplotlib.pyplot as plt"
   ]
  },
  {
   "cell_type": "code",
   "execution_count": 45,
   "metadata": {
    "execution": {
     "iopub.execute_input": "2023-08-05T16:47:53.241076Z",
     "iopub.status.busy": "2023-08-05T16:47:53.240661Z",
     "iopub.status.idle": "2023-08-05T16:47:53.373403Z",
     "shell.execute_reply": "2023-08-05T16:47:53.372527Z",
     "shell.execute_reply.started": "2023-08-05T16:47:53.241050Z"
    },
    "tags": []
   },
   "outputs": [],
   "source": [
    "X_train_raw = datasets.FashionMNIST(\n",
    "    root = \"data\",\n",
    "    train = True,\n",
    "    download = False,\n",
    "    transform = transforms.ToTensor()\n",
    ")\n",
    "\n",
    "X_test_raw = datasets.FashionMNIST(\n",
    "    root = \"data\",\n",
    "    train = True,\n",
    "    download = False,\n",
    "    transform = transforms.ToTensor()\n",
    ")"
   ]
  },
  {
   "cell_type": "code",
   "execution_count": 47,
   "metadata": {
    "execution": {
     "iopub.execute_input": "2023-08-05T16:48:08.445880Z",
     "iopub.status.busy": "2023-08-05T16:48:08.445467Z",
     "iopub.status.idle": "2023-08-05T16:48:08.450694Z",
     "shell.execute_reply": "2023-08-05T16:48:08.449736Z",
     "shell.execute_reply.started": "2023-08-05T16:48:08.445853Z"
    },
    "tags": []
   },
   "outputs": [],
   "source": [
    "labels_map = {\n",
    "    0: \"T-Shirt\",\n",
    "    1: \"Trouser\",\n",
    "    2: \"Pullover\",\n",
    "    3: \"Dress\",\n",
    "    4: \"Coat\",\n",
    "    5: \"Sandal\",\n",
    "    6: \"Shirt\",\n",
    "    7: \"Sneaker\",\n",
    "    8: \"Bag\",\n",
    "    9: \"Ankle Boot\",\n",
    "}"
   ]
  },
  {
   "cell_type": "code",
   "execution_count": 48,
   "metadata": {
    "execution": {
     "iopub.execute_input": "2023-08-05T16:48:10.669489Z",
     "iopub.status.busy": "2023-08-05T16:48:10.669059Z",
     "iopub.status.idle": "2023-08-05T16:48:10.676718Z",
     "shell.execute_reply": "2023-08-05T16:48:10.675786Z",
     "shell.execute_reply.started": "2023-08-05T16:48:10.669460Z"
    },
    "tags": []
   },
   "outputs": [],
   "source": [
    "X_train = DataLoader(X_train_raw, batch_size=64, shuffle=True)\n",
    "X_test = DataLoader(X_test_raw, batch_size=64, shuffle=True)"
   ]
  },
  {
   "cell_type": "code",
   "execution_count": 51,
   "metadata": {
    "execution": {
     "iopub.execute_input": "2023-08-05T16:48:31.539407Z",
     "iopub.status.busy": "2023-08-05T16:48:31.538998Z",
     "iopub.status.idle": "2023-08-05T16:48:31.667775Z",
     "shell.execute_reply": "2023-08-05T16:48:31.666673Z",
     "shell.execute_reply.started": "2023-08-05T16:48:31.539380Z"
    },
    "tags": []
   },
   "outputs": [
    {
     "name": "stdout",
     "output_type": "stream",
     "text": [
      "torch.Size([64, 1, 28, 28])\n"
     ]
    },
    {
     "data": {
      "text/plain": [
       "<matplotlib.image.AxesImage at 0x7f3e19428e20>"
      ]
     },
     "execution_count": 51,
     "metadata": {},
     "output_type": "execute_result"
    },
    {
     "data": {
      "image/png": "[encoded data removed]",
      "text/plain": [
       "<Figure size 640x480 with 1 Axes>"
      ]
     },
     "metadata": {},
     "output_type": "display_data"
    }
   ],
   "source": [
    "train_features, train_labels = next(iter(X_train))\n",
    "print(train_features.size())\n",
    "img = train_features[0].squeeze()\n",
    "label = train_labels[0]\n",
    "plt.imshow(img, cmap=\"gray\")"
   ]
  }
 ],
 "metadata": {
  "kernelspec": {
   "display_name": "saturn (Python 3)",
   "language": "python",
   "name": "python3"
  },
  "language_info": {
   "codemirror_mode": {
    "name": "ipython",
    "version": 3
   },
   "file_extension": ".py",
   "mimetype": "text/x-python",
   "name": "python",
   "nbconvert_exporter": "python",
   "pygments_lexer": "ipython3",
   "version": "3.9.15"
  }
 },
 "nbformat": 4,
 "nbformat_minor": 4
}
