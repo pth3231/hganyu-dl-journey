{
 "cells": [
  {
   "cell_type": "code",
   "execution_count": 1,
   "id": "8a8506e5-ad2c-4f08-9a4c-fbbb6886de76",
   "metadata": {
    "execution": {
     "iopub.execute_input": "2023-08-05T16:57:09.193299Z",
     "iopub.status.busy": "2023-08-05T16:57:09.192784Z",
     "iopub.status.idle": "2023-08-05T16:57:11.005645Z",
     "shell.execute_reply": "2023-08-05T16:57:11.004741Z",
     "shell.execute_reply.started": "2023-08-05T16:57:09.193260Z"
    },
    "tags": []
   },
   "outputs": [],
   "source": [
    "import numpy as np\n",
    "import pandas as pd\n",
    "import torch\n",
    "from torch import nn\n",
    "from torch.utils.data import DataLoader\n",
    "from torchvision import datasets\n",
    "from torchvision.transforms import ToTensor"
   ]
  },
  {
   "cell_type": "code",
   "execution_count": 2,
   "id": "7c3b6d9d-4e90-4496-88f4-d957f94561ad",
   "metadata": {
    "execution": {
     "iopub.execute_input": "2023-08-05T16:57:11.007961Z",
     "iopub.status.busy": "2023-08-05T16:57:11.007427Z",
     "iopub.status.idle": "2023-08-05T16:57:11.094163Z",
     "shell.execute_reply": "2023-08-05T16:57:11.092990Z",
     "shell.execute_reply.started": "2023-08-05T16:57:11.007934Z"
    }
   },
   "outputs": [],
   "source": [
    "# Download training data from open datasets.\n",
    "training_data = datasets.FashionMNIST(\n",
    "    root=\"data\",\n",
    "    train=True,\n",
    "    download=True,\n",
    "    transform=ToTensor(),\n",
    ")\n",
    "\n",
    "# Download test data from open datasets.\n",
    "test_data = datasets.FashionMNIST(\n",
    "    root=\"data\",\n",
    "    train=False,\n",
    "    download=True,\n",
    "    transform=ToTensor(),\n",
    ")"
   ]
  },
  {
   "cell_type": "code",
   "execution_count": 3,
   "id": "82dc9d59-6001-458d-84a1-3219160ef220",
   "metadata": {
    "execution": {
     "iopub.execute_input": "2023-08-05T16:57:11.096232Z",
     "iopub.status.busy": "2023-08-05T16:57:11.095873Z",
     "iopub.status.idle": "2023-08-05T16:57:11.112642Z",
     "shell.execute_reply": "2023-08-05T16:57:11.111485Z",
     "shell.execute_reply.started": "2023-08-05T16:57:11.096203Z"
    }
   },
   "outputs": [
    {
     "name": "stdout",
     "output_type": "stream",
     "text": [
      "Shape of X [N, C, H, W]: torch.Size([64, 1, 28, 28])\n",
      "Shape of y: torch.Size([64]) torch.int64\n"
     ]
    }
   ],
   "source": [
    "batch_size = 64\n",
    "\n",
    "# Create data loaders.\n",
    "train_dataloader = DataLoader(training_data, batch_size=batch_size)\n",
    "test_dataloader = DataLoader(test_data, batch_size=batch_size)\n",
    "\n",
    "for X, y in test_dataloader:\n",
    "    print(f\"Shape of X [N, C, H, W]: {X.shape}\")\n",
    "    print(f\"Shape of y: {y.shape} {y.dtype}\")\n",
    "    break"
   ]
  },
  {
   "cell_type": "code",
   "execution_count": 4,
   "id": "0a1beff8-b9c3-4461-a0bf-228c508f1743",
   "metadata": {
    "execution": {
     "iopub.execute_input": "2023-08-05T16:57:11.114635Z",
     "iopub.status.busy": "2023-08-05T16:57:11.114275Z",
     "iopub.status.idle": "2023-08-05T16:57:14.089675Z",
     "shell.execute_reply": "2023-08-05T16:57:14.088762Z",
     "shell.execute_reply.started": "2023-08-05T16:57:11.114606Z"
    }
   },
   "outputs": [
    {
     "name": "stdout",
     "output_type": "stream",
     "text": [
      "Using cuda device\n",
      "NeuralNetwork(\n",
      "  (flatten): Flatten(start_dim=1, end_dim=-1)\n",
      "  (linear_relu_stack): Sequential(\n",
      "    (0): Linear(in_features=784, out_features=512, bias=True)\n",
      "    (1): ReLU()\n",
      "    (2): Linear(in_features=512, out_features=512, bias=True)\n",
      "    (3): ReLU()\n",
      "    (4): Linear(in_features=512, out_features=10, bias=True)\n",
      "  )\n",
      ")\n"
     ]
    }
   ],
   "source": [
    "# Get cpu, gpu or mps device for training.\n",
    "device = (\n",
    "    \"cuda\"\n",
    "    if torch.cuda.is_available()\n",
    "    else \"mps\"\n",
    "    if torch.backends.mps.is_available()\n",
    "    else \"cpu\"\n",
    ")\n",
    "print(f\"Using {device} device\")\n",
    "\n",
    "# Define model\n",
    "class NeuralNetwork(nn.Module):\n",
    "    def __init__(self):\n",
    "        super().__init__()\n",
    "        self.flatten = nn.Flatten()\n",
    "        self.linear_relu_stack = nn.Sequential(\n",
    "            nn.Linear(28*28, 512),\n",
    "            nn.ReLU(),\n",
    "            nn.Linear(512, 512),\n",
    "            nn.ReLU(),\n",
    "            nn.Linear(512, 10)\n",
    "        )\n",
    "\n",
    "    def forward(self, x):\n",
    "        x = self.flatten(x)\n",
    "        logits = self.linear_relu_stack(x)\n",
    "        return logits\n",
    "\n",
    "model = NeuralNetwork().to(device)\n",
    "print(model)"
   ]
  },
  {
   "cell_type": "code",
   "execution_count": 11,
   "id": "fd994138-7003-41cf-a146-9d980142992f",
   "metadata": {
    "execution": {
     "iopub.execute_input": "2023-08-05T16:58:37.869641Z",
     "iopub.status.busy": "2023-08-05T16:58:37.869251Z",
     "iopub.status.idle": "2023-08-05T16:58:37.874091Z",
     "shell.execute_reply": "2023-08-05T16:58:37.873180Z",
     "shell.execute_reply.started": "2023-08-05T16:58:37.869614Z"
    },
    "tags": []
   },
   "outputs": [],
   "source": [
    "loss_fn = nn.CrossEntropyLoss()\n",
    "optimizer = torch.optim.Adam(model.parameters(), lr=1e-1)"
   ]
  },
  {
   "cell_type": "code",
   "execution_count": 6,
   "id": "00bac05f-3937-432a-b441-826975b05a18",
   "metadata": {
    "execution": {
     "iopub.execute_input": "2023-08-05T16:57:14.099724Z",
     "iopub.status.busy": "2023-08-05T16:57:14.099360Z",
     "iopub.status.idle": "2023-08-05T16:57:14.108871Z",
     "shell.execute_reply": "2023-08-05T16:57:14.107998Z",
     "shell.execute_reply.started": "2023-08-05T16:57:14.099698Z"
    }
   },
   "outputs": [],
   "source": [
    "def train(dataloader, model, loss_fn, optimizer):\n",
    "    size = len(dataloader.dataset)\n",
    "    model.train()\n",
    "    for batch, (X, y) in enumerate(dataloader):\n",
    "        X, y = X.to(device), y.to(device)\n",
    "\n",
    "        # Compute prediction error\n",
    "        pred = model(X)\n",
    "        loss = loss_fn(pred, y)\n",
    "\n",
    "        # Backpropagation\n",
    "        loss.backward()\n",
    "        optimizer.step()\n",
    "        optimizer.zero_grad()\n",
    "\n",
    "        if batch % 100 == 0:\n",
    "            loss, current = loss.item(), (batch + 1) * len(X)\n",
    "            print(f\"loss: {loss:>7f}  [{current:>5d}/{size:>5d}]\")\n",
    "            \n",
    "def test(dataloader, model, loss_fn):\n",
    "    size = len(dataloader.dataset)\n",
    "    num_batches = len(dataloader)\n",
    "    model.eval()\n",
    "    test_loss, correct = 0, 0\n",
    "    with torch.no_grad():\n",
    "        for X, y in dataloader:\n",
    "            X, y = X.to(device), y.to(device)\n",
    "            pred = model(X)\n",
    "            test_loss += loss_fn(pred, y).item()\n",
    "            correct += (pred.argmax(1) == y).type(torch.float).sum().item()\n",
    "    test_loss /= num_batches\n",
    "    correct /= size\n",
    "    print(f\"Test Error: \\n Accuracy: {(100*correct):>0.1f}%, Avg loss: {test_loss:>8f} \\n\")"
   ]
  },
  {
   "cell_type": "code",
   "execution_count": 13,
   "id": "5add2833-0e94-485f-b1af-4ec51937a1e2",
   "metadata": {
    "execution": {
     "iopub.execute_input": "2023-08-05T16:59:30.901101Z",
     "iopub.status.busy": "2023-08-05T16:59:30.900658Z",
     "iopub.status.idle": "2023-08-05T17:00:42.624794Z",
     "shell.execute_reply": "2023-08-05T17:00:42.623806Z",
     "shell.execute_reply.started": "2023-08-05T16:59:30.901075Z"
    },
    "tags": []
   },
   "outputs": [
    {
     "name": "stdout",
     "output_type": "stream",
     "text": [
      "Epoch 1\n",
      "-------------------------------\n",
      "loss: 0.205134  [   64/60000]\n",
      "loss: 0.295208  [ 6464/60000]\n",
      "loss: 0.206902  [12864/60000]\n",
      "loss: 0.244628  [19264/60000]\n",
      "loss: 0.302844  [25664/60000]\n",
      "loss: 0.362495  [32064/60000]\n",
      "loss: 0.274860  [38464/60000]\n",
      "loss: 0.352044  [44864/60000]\n",
      "loss: 0.352703  [51264/60000]\n",
      "loss: 0.358737  [57664/60000]\n",
      "Test Error: \n",
      " Accuracy: 86.3%, Avg loss: 0.368402 \n",
      "\n",
      "Epoch 2\n",
      "-------------------------------\n",
      "loss: 0.192940  [   64/60000]\n",
      "loss: 0.283789  [ 6464/60000]\n",
      "loss: 0.192238  [12864/60000]\n",
      "loss: 0.231253  [19264/60000]\n",
      "loss: 0.297713  [25664/60000]\n",
      "loss: 0.344860  [32064/60000]\n",
      "loss: 0.255304  [38464/60000]\n",
      "loss: 0.332191  [44864/60000]\n",
      "loss: 0.343412  [51264/60000]\n",
      "loss: 0.362013  [57664/60000]\n",
      "Test Error: \n",
      " Accuracy: 86.9%, Avg loss: 0.359881 \n",
      "\n",
      "Epoch 3\n",
      "-------------------------------\n",
      "loss: 0.179360  [   64/60000]\n",
      "loss: 0.274619  [ 6464/60000]\n",
      "loss: 0.177281  [12864/60000]\n",
      "loss: 0.218360  [19264/60000]\n",
      "loss: 0.298725  [25664/60000]\n",
      "loss: 0.333302  [32064/60000]\n",
      "loss: 0.239421  [38464/60000]\n",
      "loss: 0.310745  [44864/60000]\n",
      "loss: 0.324078  [51264/60000]\n",
      "loss: 0.338351  [57664/60000]\n",
      "Test Error: \n",
      " Accuracy: 87.0%, Avg loss: 0.352505 \n",
      "\n",
      "Epoch 4\n",
      "-------------------------------\n",
      "loss: 0.174724  [   64/60000]\n",
      "loss: 0.261954  [ 6464/60000]\n",
      "loss: 0.165622  [12864/60000]\n",
      "loss: 0.201511  [19264/60000]\n",
      "loss: 0.283593  [25664/60000]\n",
      "loss: 0.319734  [32064/60000]\n",
      "loss: 0.237120  [38464/60000]\n",
      "loss: 0.299999  [44864/60000]\n",
      "loss: 0.311977  [51264/60000]\n",
      "loss: 0.336888  [57664/60000]\n",
      "Test Error: \n",
      " Accuracy: 87.3%, Avg loss: 0.347043 \n",
      "\n",
      "Epoch 5\n",
      "-------------------------------\n",
      "loss: 0.159953  [   64/60000]\n",
      "loss: 0.246086  [ 6464/60000]\n",
      "loss: 0.163741  [12864/60000]\n",
      "loss: 0.194528  [19264/60000]\n",
      "loss: 0.271416  [25664/60000]\n",
      "loss: 0.309981  [32064/60000]\n",
      "loss: 0.226083  [38464/60000]\n",
      "loss: 0.287345  [44864/60000]\n",
      "loss: 0.296260  [51264/60000]\n",
      "loss: 0.314243  [57664/60000]\n",
      "Test Error: \n",
      " Accuracy: 87.3%, Avg loss: 0.347117 \n",
      "\n",
      "Epoch 6\n",
      "-------------------------------\n",
      "loss: 0.163038  [   64/60000]\n",
      "loss: 0.231915  [ 6464/60000]\n",
      "loss: 0.159915  [12864/60000]\n",
      "loss: 0.187794  [19264/60000]\n",
      "loss: 0.266459  [25664/60000]\n",
      "loss: 0.281877  [32064/60000]\n",
      "loss: 0.212875  [38464/60000]\n",
      "loss: 0.266937  [44864/60000]\n",
      "loss: 0.294040  [51264/60000]\n",
      "loss: 0.315693  [57664/60000]\n",
      "Test Error: \n",
      " Accuracy: 87.5%, Avg loss: 0.338043 \n",
      "\n",
      "Epoch 7\n",
      "-------------------------------\n",
      "loss: 0.152138  [   64/60000]\n",
      "loss: 0.224080  [ 6464/60000]\n",
      "loss: 0.153259  [12864/60000]\n",
      "loss: 0.178229  [19264/60000]\n",
      "loss: 0.275510  [25664/60000]\n",
      "loss: 0.277115  [32064/60000]\n",
      "loss: 0.207967  [38464/60000]\n",
      "loss: 0.260206  [44864/60000]\n",
      "loss: 0.275935  [51264/60000]\n",
      "loss: 0.286184  [57664/60000]\n",
      "Test Error: \n",
      " Accuracy: 88.1%, Avg loss: 0.331286 \n",
      "\n",
      "Epoch 8\n",
      "-------------------------------\n",
      "loss: 0.146146  [   64/60000]\n",
      "loss: 0.205056  [ 6464/60000]\n",
      "loss: 0.144026  [12864/60000]\n",
      "loss: 0.176859  [19264/60000]\n",
      "loss: 0.274711  [25664/60000]\n",
      "loss: 0.259805  [32064/60000]\n",
      "loss: 0.202198  [38464/60000]\n",
      "loss: 0.248945  [44864/60000]\n",
      "loss: 0.283332  [51264/60000]\n",
      "loss: 0.285849  [57664/60000]\n",
      "Test Error: \n",
      " Accuracy: 87.8%, Avg loss: 0.335839 \n",
      "\n",
      "Epoch 9\n",
      "-------------------------------\n",
      "loss: 0.148605  [   64/60000]\n",
      "loss: 0.185247  [ 6464/60000]\n",
      "loss: 0.131149  [12864/60000]\n",
      "loss: 0.181366  [19264/60000]\n",
      "loss: 0.265458  [25664/60000]\n",
      "loss: 0.263264  [32064/60000]\n",
      "loss: 0.193340  [38464/60000]\n",
      "loss: 0.246450  [44864/60000]\n",
      "loss: 0.252392  [51264/60000]\n",
      "loss: 0.276857  [57664/60000]\n",
      "Test Error: \n",
      " Accuracy: 87.9%, Avg loss: 0.336521 \n",
      "\n",
      "Epoch 10\n",
      "-------------------------------\n",
      "loss: 0.132027  [   64/60000]\n",
      "loss: 0.184967  [ 6464/60000]\n",
      "loss: 0.132730  [12864/60000]\n",
      "loss: 0.167802  [19264/60000]\n",
      "loss: 0.261791  [25664/60000]\n",
      "loss: 0.257150  [32064/60000]\n",
      "loss: 0.183154  [38464/60000]\n",
      "loss: 0.229157  [44864/60000]\n",
      "loss: 0.249794  [51264/60000]\n",
      "loss: 0.269488  [57664/60000]\n",
      "Test Error: \n",
      " Accuracy: 88.4%, Avg loss: 0.331461 \n",
      "\n",
      "Done!\n"
     ]
    }
   ],
   "source": [
    "epochs = 5\n",
    "for t in range(epochs):\n",
    "    print(f\"Epoch {t+1}\\n-------------------------------\")\n",
    "    train(train_dataloader, model, loss_fn, optimizer)\n",
    "    test(test_dataloader, model, loss_fn)\n",
    "print(\"Done!\")"
   ]
  },
  {
   "cell_type": "code",
   "execution_count": 14,
   "id": "7147d1ba-2fa5-4536-86e9-89d23ed57b2d",
   "metadata": {
    "execution": {
     "iopub.execute_input": "2023-08-05T17:00:50.575403Z",
     "iopub.status.busy": "2023-08-05T17:00:50.575001Z",
     "iopub.status.idle": "2023-08-05T17:00:50.589171Z",
     "shell.execute_reply": "2023-08-05T17:00:50.588326Z",
     "shell.execute_reply.started": "2023-08-05T17:00:50.575377Z"
    },
    "tags": []
   },
   "outputs": [
    {
     "name": "stdout",
     "output_type": "stream",
     "text": [
      "Saved PyTorch Model State to model.pth\n"
     ]
    }
   ],
   "source": [
    "# Saving model\n",
    "torch.save(model.state_dict(), \"./models/demo_quickstart_pytorch.pth\")\n",
    "print(\"Saved PyTorch Model State to model.pth\")"
   ]
  },
  {
   "cell_type": "code",
   "execution_count": 15,
   "id": "2ee33d97-5a92-4f8a-991d-fbed8ecaf2fc",
   "metadata": {
    "execution": {
     "iopub.execute_input": "2023-08-05T17:00:52.536290Z",
     "iopub.status.busy": "2023-08-05T17:00:52.535881Z",
     "iopub.status.idle": "2023-08-05T17:00:52.553166Z",
     "shell.execute_reply": "2023-08-05T17:00:52.552173Z",
     "shell.execute_reply.started": "2023-08-05T17:00:52.536265Z"
    },
    "tags": []
   },
   "outputs": [
    {
     "data": {
      "text/plain": [
       "<All keys matched successfully>"
      ]
     },
     "execution_count": 15,
     "metadata": {},
     "output_type": "execute_result"
    }
   ],
   "source": [
    "# Loading model\n",
    "model = NeuralNetwork().to(device)\n",
    "model.load_state_dict(torch.load(\"./models/demo_quickstart_pytorch.pth\"))"
   ]
  },
  {
   "cell_type": "code",
   "execution_count": 16,
   "id": "c46f3d28-cf90-4e3f-871c-62852e1580cc",
   "metadata": {
    "execution": {
     "iopub.execute_input": "2023-08-05T17:00:54.551577Z",
     "iopub.status.busy": "2023-08-05T17:00:54.551131Z",
     "iopub.status.idle": "2023-08-05T17:00:54.558944Z",
     "shell.execute_reply": "2023-08-05T17:00:54.558215Z",
     "shell.execute_reply.started": "2023-08-05T17:00:54.551549Z"
    },
    "tags": []
   },
   "outputs": [
    {
     "name": "stdout",
     "output_type": "stream",
     "text": [
      "Predicted: \"Dress\", Actual: \"Dress\"\n"
     ]
    }
   ],
   "source": [
    "# Prediction\n",
    "classes = [\n",
    "    \"T-shirt/top\",\n",
    "    \"Trouser\",\n",
    "    \"Pullover\",\n",
    "    \"Dress\",\n",
    "    \"Coat\",\n",
    "    \"Sandal\",\n",
    "    \"Shirt\",\n",
    "    \"Sneaker\",\n",
    "    \"Bag\",\n",
    "    \"Ankle boot\",\n",
    "]\n",
    "\n",
    "model.eval()\n",
    "item_idx = 32\n",
    "x, y = test_data[item_idx][0], test_data[item_idx][1]\n",
    "with torch.no_grad():\n",
    "    x = x.to(device)\n",
    "    pred = model(x)\n",
    "    predicted, actual = classes[pred[0].argmax(0)], classes[y]\n",
    "    print(f'Predicted: \"{predicted}\", Actual: \"{actual}\"')"
   ]
  }
 ],
 "metadata": {
  "kernelspec": {
   "display_name": "saturn (Python 3)",
   "language": "python",
   "name": "python3"
  },
  "language_info": {
   "codemirror_mode": {
    "name": "ipython",
    "version": 3
   },
   "file_extension": ".py",
   "mimetype": "text/x-python",
   "name": "python",
   "nbconvert_exporter": "python",
   "pygments_lexer": "ipython3",
   "version": "3.9.15"
  }
 },
 "nbformat": 4,
 "nbformat_minor": 5
}
