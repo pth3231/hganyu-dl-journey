{
 "cells": [
  {
   "cell_type": "code",
   "execution_count": 1,
   "id": "8a8506e5-ad2c-4f08-9a4c-fbbb6886de76",
   "metadata": {
    "execution": {
     "iopub.execute_input": "2023-08-04T08:47:17.436239Z",
     "iopub.status.busy": "2023-08-04T08:47:17.435788Z",
     "iopub.status.idle": "2023-08-04T08:47:18.340094Z",
     "shell.execute_reply": "2023-08-04T08:47:18.339501Z",
     "shell.execute_reply.started": "2023-08-04T08:47:17.436204Z"
    },
    "tags": []
   },
   "outputs": [],
   "source": [
    "import numpy as np\n",
    "import pandas as pd\n",
    "import torch\n",
    "from torch import nn\n",
    "from torch.utils.data import DataLoader\n",
    "from torchvision import datasets\n",
    "from torchvision.transforms import ToTensor"
   ]
  },
  {
   "cell_type": "code",
   "execution_count": 2,
   "id": "7c3b6d9d-4e90-4496-88f4-d957f94561ad",
   "metadata": {
    "execution": {
     "iopub.execute_input": "2023-08-04T08:47:18.341666Z",
     "iopub.status.busy": "2023-08-04T08:47:18.341321Z",
     "iopub.status.idle": "2023-08-04T08:47:18.421102Z",
     "shell.execute_reply": "2023-08-04T08:47:18.420416Z",
     "shell.execute_reply.started": "2023-08-04T08:47:18.341644Z"
    }
   },
   "outputs": [],
   "source": [
    "# Download training data from open datasets.\n",
    "training_data = datasets.FashionMNIST(\n",
    "    root=\"data\",\n",
    "    train=True,\n",
    "    download=True,\n",
    "    transform=ToTensor(),\n",
    ")\n",
    "\n",
    "# Download test data from open datasets.\n",
    "test_data = datasets.FashionMNIST(\n",
    "    root=\"data\",\n",
    "    train=False,\n",
    "    download=True,\n",
    "    transform=ToTensor(),\n",
    ")"
   ]
  },
  {
   "cell_type": "code",
   "execution_count": 3,
   "id": "82dc9d59-6001-458d-84a1-3219160ef220",
   "metadata": {
    "execution": {
     "iopub.execute_input": "2023-08-04T08:47:18.422305Z",
     "iopub.status.busy": "2023-08-04T08:47:18.422021Z",
     "iopub.status.idle": "2023-08-04T08:47:18.433074Z",
     "shell.execute_reply": "2023-08-04T08:47:18.432470Z",
     "shell.execute_reply.started": "2023-08-04T08:47:18.422282Z"
    }
   },
   "outputs": [
    {
     "name": "stdout",
     "output_type": "stream",
     "text": [
      "Shape of X [N, C, H, W]: torch.Size([64, 1, 28, 28])\n",
      "Shape of y: torch.Size([64]) torch.int64\n"
     ]
    }
   ],
   "source": [
    "batch_size = 64\n",
    "\n",
    "# Create data loaders.\n",
    "train_dataloader = DataLoader(training_data, batch_size=batch_size)\n",
    "test_dataloader = DataLoader(test_data, batch_size=batch_size)\n",
    "\n",
    "for X, y in test_dataloader:\n",
    "    print(f\"Shape of X [N, C, H, W]: {X.shape}\")\n",
    "    print(f\"Shape of y: {y.shape} {y.dtype}\")\n",
    "    break"
   ]
  },
  {
   "cell_type": "code",
   "execution_count": 4,
   "id": "0a1beff8-b9c3-4461-a0bf-228c508f1743",
   "metadata": {
    "execution": {
     "iopub.execute_input": "2023-08-04T08:47:18.434250Z",
     "iopub.status.busy": "2023-08-04T08:47:18.433937Z",
     "iopub.status.idle": "2023-08-04T08:47:21.091879Z",
     "shell.execute_reply": "2023-08-04T08:47:21.091192Z",
     "shell.execute_reply.started": "2023-08-04T08:47:18.434229Z"
    }
   },
   "outputs": [
    {
     "name": "stdout",
     "output_type": "stream",
     "text": [
      "Using cuda device\n",
      "NeuralNetwork(\n",
      "  (flatten): Flatten(start_dim=1, end_dim=-1)\n",
      "  (linear_relu_stack): Sequential(\n",
      "    (0): Linear(in_features=784, out_features=512, bias=True)\n",
      "    (1): ReLU()\n",
      "    (2): Linear(in_features=512, out_features=512, bias=True)\n",
      "    (3): ReLU()\n",
      "    (4): Linear(in_features=512, out_features=10, bias=True)\n",
      "  )\n",
      ")\n"
     ]
    }
   ],
   "source": [
    "# Get cpu, gpu or mps device for training.\n",
    "device = (\n",
    "    \"cuda\"\n",
    "    if torch.cuda.is_available()\n",
    "    else \"mps\"\n",
    "    if torch.backends.mps.is_available()\n",
    "    else \"cpu\"\n",
    ")\n",
    "print(f\"Using {device} device\")\n",
    "\n",
    "# Define model\n",
    "class NeuralNetwork(nn.Module):\n",
    "    def __init__(self):\n",
    "        super().__init__()\n",
    "        self.flatten = nn.Flatten()\n",
    "        self.linear_relu_stack = nn.Sequential(\n",
    "            nn.Linear(28*28, 512),\n",
    "            nn.ReLU(),\n",
    "            nn.Linear(512, 512),\n",
    "            nn.ReLU(),\n",
    "            nn.Linear(512, 10)\n",
    "        )\n",
    "\n",
    "    def forward(self, x):\n",
    "        x = self.flatten(x)\n",
    "        logits = self.linear_relu_stack(x)\n",
    "        return logits\n",
    "\n",
    "model = NeuralNetwork().to(device)\n",
    "print(model)"
   ]
  },
  {
   "cell_type": "code",
   "execution_count": 5,
   "id": "fd994138-7003-41cf-a146-9d980142992f",
   "metadata": {
    "execution": {
     "iopub.execute_input": "2023-08-04T08:47:21.093658Z",
     "iopub.status.busy": "2023-08-04T08:47:21.093357Z",
     "iopub.status.idle": "2023-08-04T08:47:21.097683Z",
     "shell.execute_reply": "2023-08-04T08:47:21.096809Z",
     "shell.execute_reply.started": "2023-08-04T08:47:21.093637Z"
    }
   },
   "outputs": [],
   "source": [
    "loss_fn = nn.CrossEntropyLoss()\n",
    "optimizer = torch.optim.SGD(model.parameters(), lr=1e-3)"
   ]
  },
  {
   "cell_type": "code",
   "execution_count": 6,
   "id": "00bac05f-3937-432a-b441-826975b05a18",
   "metadata": {
    "execution": {
     "iopub.execute_input": "2023-08-04T08:47:21.098881Z",
     "iopub.status.busy": "2023-08-04T08:47:21.098634Z",
     "iopub.status.idle": "2023-08-04T08:47:21.105856Z",
     "shell.execute_reply": "2023-08-04T08:47:21.105200Z",
     "shell.execute_reply.started": "2023-08-04T08:47:21.098861Z"
    }
   },
   "outputs": [],
   "source": [
    "def train(dataloader, model, loss_fn, optimizer):\n",
    "    size = len(dataloader.dataset)\n",
    "    model.train()\n",
    "    for batch, (X, y) in enumerate(dataloader):\n",
    "        X, y = X.to(device), y.to(device)\n",
    "\n",
    "        # Compute prediction error\n",
    "        pred = model(X)\n",
    "        loss = loss_fn(pred, y)\n",
    "\n",
    "        # Backpropagation\n",
    "        loss.backward()\n",
    "        optimizer.step()\n",
    "        optimizer.zero_grad()\n",
    "\n",
    "        if batch % 100 == 0:\n",
    "            loss, current = loss.item(), (batch + 1) * len(X)\n",
    "            print(f\"loss: {loss:>7f}  [{current:>5d}/{size:>5d}]\")\n",
    "            \n",
    "def test(dataloader, model, loss_fn):\n",
    "    size = len(dataloader.dataset)\n",
    "    num_batches = len(dataloader)\n",
    "    model.eval()\n",
    "    test_loss, correct = 0, 0\n",
    "    with torch.no_grad():\n",
    "        for X, y in dataloader:\n",
    "            X, y = X.to(device), y.to(device)\n",
    "            pred = model(X)\n",
    "            test_loss += loss_fn(pred, y).item()\n",
    "            correct += (pred.argmax(1) == y).type(torch.float).sum().item()\n",
    "    test_loss /= num_batches\n",
    "    correct /= size\n",
    "    print(f\"Test Error: \\n Accuracy: {(100*correct):>0.1f}%, Avg loss: {test_loss:>8f} \\n\")"
   ]
  },
  {
   "cell_type": "code",
   "execution_count": 7,
   "id": "5add2833-0e94-485f-b1af-4ec51937a1e2",
   "metadata": {
    "execution": {
     "iopub.execute_input": "2023-08-04T08:47:21.107036Z",
     "iopub.status.busy": "2023-08-04T08:47:21.106766Z",
     "iopub.status.idle": "2023-08-04T08:47:53.646762Z",
     "shell.execute_reply": "2023-08-04T08:47:53.646032Z",
     "shell.execute_reply.started": "2023-08-04T08:47:21.107018Z"
    },
    "tags": []
   },
   "outputs": [
    {
     "name": "stdout",
     "output_type": "stream",
     "text": [
      "Epoch 1\n",
      "-------------------------------\n",
      "loss: 2.300297  [   64/60000]\n",
      "loss: 2.283028  [ 6464/60000]\n",
      "loss: 2.259375  [12864/60000]\n",
      "loss: 2.249862  [19264/60000]\n",
      "loss: 2.240179  [25664/60000]\n",
      "loss: 2.204965  [32064/60000]\n",
      "loss: 2.211319  [38464/60000]\n",
      "loss: 2.177166  [44864/60000]\n",
      "loss: 2.171220  [51264/60000]\n",
      "loss: 2.143144  [57664/60000]\n",
      "Test Error: \n",
      " Accuracy: 49.2%, Avg loss: 2.133017 \n",
      "\n",
      "Epoch 2\n",
      "-------------------------------\n",
      "loss: 2.148283  [   64/60000]\n",
      "loss: 2.132912  [ 6464/60000]\n",
      "loss: 2.066355  [12864/60000]\n",
      "loss: 2.084214  [19264/60000]\n",
      "loss: 2.043158  [25664/60000]\n",
      "loss: 1.970980  [32064/60000]\n",
      "loss: 1.999295  [38464/60000]\n",
      "loss: 1.916033  [44864/60000]\n",
      "loss: 1.927155  [51264/60000]\n",
      "loss: 1.852732  [57664/60000]\n",
      "Test Error: \n",
      " Accuracy: 60.5%, Avg loss: 1.849119 \n",
      "\n",
      "Epoch 3\n",
      "-------------------------------\n",
      "loss: 1.885658  [   64/60000]\n",
      "loss: 1.850200  [ 6464/60000]\n",
      "loss: 1.725531  [12864/60000]\n",
      "loss: 1.769538  [19264/60000]\n",
      "loss: 1.677783  [25664/60000]\n",
      "loss: 1.622481  [32064/60000]\n",
      "loss: 1.638191  [38464/60000]\n",
      "loss: 1.546981  [44864/60000]\n",
      "loss: 1.577920  [51264/60000]\n",
      "loss: 1.468536  [57664/60000]\n",
      "Test Error: \n",
      " Accuracy: 62.9%, Avg loss: 1.488481 \n",
      "\n",
      "Epoch 4\n",
      "-------------------------------\n",
      "loss: 1.558215  [   64/60000]\n",
      "loss: 1.518996  [ 6464/60000]\n",
      "loss: 1.369087  [12864/60000]\n",
      "loss: 1.442348  [19264/60000]\n",
      "loss: 1.334276  [25664/60000]\n",
      "loss: 1.330633  [32064/60000]\n",
      "loss: 1.333328  [38464/60000]\n",
      "loss: 1.268140  [44864/60000]\n",
      "loss: 1.307843  [51264/60000]\n",
      "loss: 1.207161  [57664/60000]\n",
      "Test Error: \n",
      " Accuracy: 63.9%, Avg loss: 1.232782 \n",
      "\n",
      "Epoch 5\n",
      "-------------------------------\n",
      "loss: 1.311486  [   64/60000]\n",
      "loss: 1.287981  [ 6464/60000]\n",
      "loss: 1.124936  [12864/60000]\n",
      "loss: 1.234022  [19264/60000]\n",
      "loss: 1.110311  [25664/60000]\n",
      "loss: 1.139081  [32064/60000]\n",
      "loss: 1.149112  [38464/60000]\n",
      "loss: 1.094834  [44864/60000]\n",
      "loss: 1.138874  [51264/60000]\n",
      "loss: 1.054445  [57664/60000]\n",
      "Test Error: \n",
      " Accuracy: 65.4%, Avg loss: 1.073691 \n",
      "\n",
      "Done!\n"
     ]
    }
   ],
   "source": [
    "epochs = 5\n",
    "for t in range(epochs):\n",
    "    print(f\"Epoch {t+1}\\n-------------------------------\")\n",
    "    train(train_dataloader, model, loss_fn, optimizer)\n",
    "    test(test_dataloader, model, loss_fn)\n",
    "print(\"Done!\")"
   ]
  }
 ],
 "metadata": {
  "kernelspec": {
   "display_name": "saturn (Python 3)",
   "language": "python",
   "name": "python3"
  },
  "language_info": {
   "codemirror_mode": {
    "name": "ipython",
    "version": 3
   },
   "file_extension": ".py",
   "mimetype": "text/x-python",
   "name": "python",
   "nbconvert_exporter": "python",
   "pygments_lexer": "ipython3",
   "version": "3.9.15"
  }
 },
 "nbformat": 4,
 "nbformat_minor": 5
}
