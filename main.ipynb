{
 "cells": [
  {
   "cell_type": "code",
   "execution_count": 1,
   "id": "8a8506e5-ad2c-4f08-9a4c-fbbb6886de76",
   "metadata": {
    "execution": {
     "iopub.execute_input": "2023-08-05T16:57:09.193299Z",
     "iopub.status.busy": "2023-08-05T16:57:09.192784Z",
     "iopub.status.idle": "2023-08-05T16:57:11.005645Z",
     "shell.execute_reply": "2023-08-05T16:57:11.004741Z",
     "shell.execute_reply.started": "2023-08-05T16:57:09.193260Z"
    },
    "tags": []
   },
   "outputs": [],
   "source": [
    "import numpy as np\n",
    "import pandas as pd\n",
    "import torch\n",
    "from torch import nn\n",
    "from torch.utils.data import DataLoader\n",
    "from torchvision import datasets\n",
    "from torchvision.transforms import ToTensor"
   ]
  },
  {
   "cell_type": "code",
   "execution_count": 2,
   "id": "7c3b6d9d-4e90-4496-88f4-d957f94561ad",
   "metadata": {
    "execution": {
     "iopub.execute_input": "2023-08-05T16:57:11.007961Z",
     "iopub.status.busy": "2023-08-05T16:57:11.007427Z",
     "iopub.status.idle": "2023-08-05T16:57:11.094163Z",
     "shell.execute_reply": "2023-08-05T16:57:11.092990Z",
     "shell.execute_reply.started": "2023-08-05T16:57:11.007934Z"
    }
   },
   "outputs": [],
   "source": [
    "# Download training data from open datasets.\n",
    "training_data = datasets.FashionMNIST(\n",
    "    root=\"data\",\n",
    "    train=True,\n",
    "    download=True,\n",
    "    transform=ToTensor(),\n",
    ")\n",
    "\n",
    "# Download test data from open datasets.\n",
    "test_data = datasets.FashionMNIST(\n",
    "    root=\"data\",\n",
    "    train=False,\n",
    "    download=True,\n",
    "    transform=ToTensor(),\n",
    ")"
   ]
  },
  {
   "cell_type": "code",
   "execution_count": 3,
   "id": "82dc9d59-6001-458d-84a1-3219160ef220",
   "metadata": {
    "execution": {
     "iopub.execute_input": "2023-08-05T16:57:11.096232Z",
     "iopub.status.busy": "2023-08-05T16:57:11.095873Z",
     "iopub.status.idle": "2023-08-05T16:57:11.112642Z",
     "shell.execute_reply": "2023-08-05T16:57:11.111485Z",
     "shell.execute_reply.started": "2023-08-05T16:57:11.096203Z"
    }
   },
   "outputs": [
    {
     "name": "stdout",
     "output_type": "stream",
     "text": [
      "Shape of X [N, C, H, W]: torch.Size([64, 1, 28, 28])\n",
      "Shape of y: torch.Size([64]) torch.int64\n"
     ]
    }
   ],
   "source": [
    "batch_size = 64\n",
    "\n",
    "# Create data loaders.\n",
    "train_dataloader = DataLoader(training_data, batch_size=batch_size)\n",
    "test_dataloader = DataLoader(test_data, batch_size=batch_size)\n",
    "\n",
    "for X, y in test_dataloader:\n",
    "    print(f\"Shape of X [N, C, H, W]: {X.shape}\")\n",
    "    print(f\"Shape of y: {y.shape} {y.dtype}\")\n",
    "    break"
   ]
  },
  {
   "cell_type": "code",
   "execution_count": 4,
   "id": "0a1beff8-b9c3-4461-a0bf-228c508f1743",
   "metadata": {
    "execution": {
     "iopub.execute_input": "2023-08-05T16:57:11.114635Z",
     "iopub.status.busy": "2023-08-05T16:57:11.114275Z",
     "iopub.status.idle": "2023-08-05T16:57:14.089675Z",
     "shell.execute_reply": "2023-08-05T16:57:14.088762Z",
     "shell.execute_reply.started": "2023-08-05T16:57:11.114606Z"
    }
   },
   "outputs": [
    {
     "name": "stdout",
     "output_type": "stream",
     "text": [
      "Using cuda device\n",
      "NeuralNetwork(\n",
      "  (flatten): Flatten(start_dim=1, end_dim=-1)\n",
      "  (linear_relu_stack): Sequential(\n",
      "    (0): Linear(in_features=784, out_features=512, bias=True)\n",
      "    (1): ReLU()\n",
      "    (2): Linear(in_features=512, out_features=512, bias=True)\n",
      "    (3): ReLU()\n",
      "    (4): Linear(in_features=512, out_features=10, bias=True)\n",
      "  )\n",
      ")\n"
     ]
    }
   ],
   "source": [
    "# Get cpu, gpu or mps device for training.\n",
    "device = (\n",
    "    \"cuda\"\n",
    "    if torch.cuda.is_available()\n",
    "    else \"mps\"\n",
    "    if torch.backends.mps.is_available()\n",
    "    else \"cpu\"\n",
    ")\n",
    "print(f\"Using {device} device\")\n",
    "\n",
    "# Define model\n",
    "class NeuralNetwork(nn.Module):\n",
    "    def __init__(self):\n",
    "        super().__init__()\n",
    "        self.flatten = nn.Flatten()\n",
    "        self.linear_relu_stack = nn.Sequential(\n",
    "            nn.Linear(28*28, 512),\n",
    "            nn.ReLU(),\n",
    "            nn.Linear(512, 512),\n",
    "            nn.ReLU(),\n",
    "            nn.Linear(512, 10)\n",
    "        )\n",
    "\n",
    "    def forward(self, x):\n",
    "        x = self.flatten(x)\n",
    "        logits = self.linear_relu_stack(x)\n",
    "        return logits\n",
    "\n",
    "model = NeuralNetwork().to(device)\n",
    "print(model)"
   ]
  },
  {
   "cell_type": "code",
   "execution_count": 17,
   "id": "fd994138-7003-41cf-a146-9d980142992f",
   "metadata": {
    "execution": {
     "iopub.execute_input": "2023-08-05T17:02:32.986973Z",
     "iopub.status.busy": "2023-08-05T17:02:32.986553Z",
     "iopub.status.idle": "2023-08-05T17:02:32.991479Z",
     "shell.execute_reply": "2023-08-05T17:02:32.990527Z",
     "shell.execute_reply.started": "2023-08-05T17:02:32.986945Z"
    },
    "tags": []
   },
   "outputs": [],
   "source": [
    "loss_fn = nn.CrossEntropyLoss()\n",
    "optimizer = torch.optim.Adam(model.parameters(), lr=1e-2)"
   ]
  },
  {
   "cell_type": "code",
   "execution_count": 6,
   "id": "00bac05f-3937-432a-b441-826975b05a18",
   "metadata": {
    "execution": {
     "iopub.execute_input": "2023-08-05T16:57:14.099724Z",
     "iopub.status.busy": "2023-08-05T16:57:14.099360Z",
     "iopub.status.idle": "2023-08-05T16:57:14.108871Z",
     "shell.execute_reply": "2023-08-05T16:57:14.107998Z",
     "shell.execute_reply.started": "2023-08-05T16:57:14.099698Z"
    }
   },
   "outputs": [],
   "source": [
    "def train(dataloader, model, loss_fn, optimizer):\n",
    "    size = len(dataloader.dataset)\n",
    "    model.train()\n",
    "    for batch, (X, y) in enumerate(dataloader):\n",
    "        X, y = X.to(device), y.to(device)\n",
    "\n",
    "        # Compute prediction error\n",
    "        pred = model(X)\n",
    "        loss = loss_fn(pred, y)\n",
    "\n",
    "        # Backpropagation\n",
    "        loss.backward()\n",
    "        optimizer.step()\n",
    "        optimizer.zero_grad()\n",
    "\n",
    "        if batch % 100 == 0:\n",
    "            loss, current = loss.item(), (batch + 1) * len(X)\n",
    "            print(f\"loss: {loss:>7f}  [{current:>5d}/{size:>5d}]\")\n",
    "            \n",
    "def test(dataloader, model, loss_fn):\n",
    "    size = len(dataloader.dataset)\n",
    "    num_batches = len(dataloader)\n",
    "    model.eval()\n",
    "    test_loss, correct = 0, 0\n",
    "    with torch.no_grad():\n",
    "        for X, y in dataloader:\n",
    "            X, y = X.to(device), y.to(device)\n",
    "            pred = model(X)\n",
    "            test_loss += loss_fn(pred, y).item()\n",
    "            correct += (pred.argmax(1) == y).type(torch.float).sum().item()\n",
    "    test_loss /= num_batches\n",
    "    correct /= size\n",
    "    print(f\"Test Error: \\n Accuracy: {(100*correct):>0.1f}%, Avg loss: {test_loss:>8f} \\n\")"
   ]
  },
  {
   "cell_type": "code",
   "execution_count": 18,
   "id": "5add2833-0e94-485f-b1af-4ec51937a1e2",
   "metadata": {
    "execution": {
     "iopub.execute_input": "2023-08-05T17:02:36.880892Z",
     "iopub.status.busy": "2023-08-05T17:02:36.880503Z",
     "iopub.status.idle": "2023-08-05T17:03:15.180392Z",
     "shell.execute_reply": "2023-08-05T17:03:15.179457Z",
     "shell.execute_reply.started": "2023-08-05T17:02:36.880866Z"
    },
    "tags": []
   },
   "outputs": [
    {
     "name": "stdout",
     "output_type": "stream",
     "text": [
      "Epoch 1\n",
      "-------------------------------\n",
      "loss: 0.128200  [   64/60000]\n",
      "loss: 0.545049  [ 6464/60000]\n",
      "loss: 0.372681  [12864/60000]\n",
      "loss: 0.452935  [19264/60000]\n",
      "loss: 0.461685  [25664/60000]\n",
      "loss: 0.448141  [32064/60000]\n",
      "loss: 0.359716  [38464/60000]\n",
      "loss: 0.550128  [44864/60000]\n",
      "loss: 0.541155  [51264/60000]\n",
      "loss: 0.558256  [57664/60000]\n",
      "Test Error: \n",
      " Accuracy: 82.3%, Avg loss: 0.478522 \n",
      "\n",
      "Epoch 2\n",
      "-------------------------------\n",
      "loss: 0.335403  [   64/60000]\n",
      "loss: 0.309986  [ 6464/60000]\n",
      "loss: 0.371210  [12864/60000]\n",
      "loss: 0.422696  [19264/60000]\n",
      "loss: 0.466609  [25664/60000]\n",
      "loss: 0.414993  [32064/60000]\n",
      "loss: 0.344758  [38464/60000]\n",
      "loss: 0.602600  [44864/60000]\n",
      "loss: 0.467187  [51264/60000]\n",
      "loss: 0.397356  [57664/60000]\n",
      "Test Error: \n",
      " Accuracy: 84.3%, Avg loss: 0.442687 \n",
      "\n",
      "Epoch 3\n",
      "-------------------------------\n",
      "loss: 0.252103  [   64/60000]\n",
      "loss: 0.341448  [ 6464/60000]\n",
      "loss: 0.319227  [12864/60000]\n",
      "loss: 0.454347  [19264/60000]\n",
      "loss: 0.379245  [25664/60000]\n",
      "loss: 0.445762  [32064/60000]\n",
      "loss: 0.463594  [38464/60000]\n",
      "loss: 0.671647  [44864/60000]\n",
      "loss: 0.469406  [51264/60000]\n",
      "loss: 0.421210  [57664/60000]\n",
      "Test Error: \n",
      " Accuracy: 84.1%, Avg loss: 0.468461 \n",
      "\n",
      "Epoch 4\n",
      "-------------------------------\n",
      "loss: 0.281930  [   64/60000]\n",
      "loss: 0.389411  [ 6464/60000]\n",
      "loss: 0.298459  [12864/60000]\n",
      "loss: 0.420130  [19264/60000]\n",
      "loss: 0.411474  [25664/60000]\n",
      "loss: 0.419525  [32064/60000]\n",
      "loss: 0.401045  [38464/60000]\n",
      "loss: 0.514882  [44864/60000]\n",
      "loss: 0.484583  [51264/60000]\n",
      "loss: 0.400130  [57664/60000]\n",
      "Test Error: \n",
      " Accuracy: 83.7%, Avg loss: 0.474511 \n",
      "\n",
      "Epoch 5\n",
      "-------------------------------\n",
      "loss: 0.337095  [   64/60000]\n",
      "loss: 0.340777  [ 6464/60000]\n",
      "loss: 0.278476  [12864/60000]\n",
      "loss: 0.342275  [19264/60000]\n",
      "loss: 0.397030  [25664/60000]\n",
      "loss: 0.427247  [32064/60000]\n",
      "loss: 0.299000  [38464/60000]\n",
      "loss: 0.622066  [44864/60000]\n",
      "loss: 0.403247  [51264/60000]\n",
      "loss: 0.405392  [57664/60000]\n",
      "Test Error: \n",
      " Accuracy: 85.4%, Avg loss: 0.418514 \n",
      "\n",
      "Done!\n"
     ]
    }
   ],
   "source": [
    "epochs = 5\n",
    "for t in range(epochs):\n",
    "    print(f\"Epoch {t+1}\\n-------------------------------\")\n",
    "    train(train_dataloader, model, loss_fn, optimizer)\n",
    "    test(test_dataloader, model, loss_fn)\n",
    "print(\"Done!\")"
   ]
  },
  {
   "cell_type": "code",
   "execution_count": 19,
   "id": "7147d1ba-2fa5-4536-86e9-89d23ed57b2d",
   "metadata": {
    "execution": {
     "iopub.execute_input": "2023-08-05T17:03:26.028514Z",
     "iopub.status.busy": "2023-08-05T17:03:26.028107Z",
     "iopub.status.idle": "2023-08-05T17:03:26.044186Z",
     "shell.execute_reply": "2023-08-05T17:03:26.043019Z",
     "shell.execute_reply.started": "2023-08-05T17:03:26.028489Z"
    },
    "tags": []
   },
   "outputs": [
    {
     "name": "stdout",
     "output_type": "stream",
     "text": [
      "Saved PyTorch Model State to model.pth\n"
     ]
    }
   ],
   "source": [
    "# Saving model\n",
    "torch.save(model.state_dict(), \"./models/demo_quickstart_pytorch.pth\")\n",
    "print(\"Saved PyTorch Model State to model.pth\")"
   ]
  },
  {
   "cell_type": "code",
   "execution_count": 20,
   "id": "2ee33d97-5a92-4f8a-991d-fbed8ecaf2fc",
   "metadata": {
    "execution": {
     "iopub.execute_input": "2023-08-05T17:03:27.808315Z",
     "iopub.status.busy": "2023-08-05T17:03:27.807889Z",
     "iopub.status.idle": "2023-08-05T17:03:27.825187Z",
     "shell.execute_reply": "2023-08-05T17:03:27.824280Z",
     "shell.execute_reply.started": "2023-08-05T17:03:27.808292Z"
    },
    "tags": []
   },
   "outputs": [
    {
     "data": {
      "text/plain": [
       "<All keys matched successfully>"
      ]
     },
     "execution_count": 20,
     "metadata": {},
     "output_type": "execute_result"
    }
   ],
   "source": [
    "# Loading model\n",
    "model = NeuralNetwork().to(device)\n",
    "model.load_state_dict(torch.load(\"./models/demo_quickstart_pytorch.pth\"))"
   ]
  },
  {
   "cell_type": "code",
   "execution_count": 29,
   "id": "c46f3d28-cf90-4e3f-871c-62852e1580cc",
   "metadata": {
    "execution": {
     "iopub.execute_input": "2023-08-05T17:04:27.824470Z",
     "iopub.status.busy": "2023-08-05T17:04:27.824060Z",
     "iopub.status.idle": "2023-08-05T17:04:27.832423Z",
     "shell.execute_reply": "2023-08-05T17:04:27.831440Z",
     "shell.execute_reply.started": "2023-08-05T17:04:27.824445Z"
    },
    "tags": []
   },
   "outputs": [
    {
     "name": "stdout",
     "output_type": "stream",
     "text": [
      "Predicted: \"T-shirt/top\", Actual: \"T-shirt/top\"\n"
     ]
    }
   ],
   "source": [
    "# Prediction\n",
    "classes = [\n",
    "    \"T-shirt/top\",\n",
    "    \"Trouser\",\n",
    "    \"Pullover\",\n",
    "    \"Dress\",\n",
    "    \"Coat\",\n",
    "    \"Sandal\",\n",
    "    \"Shirt\",\n",
    "    \"Sneaker\",\n",
    "    \"Bag\",\n",
    "    \"Ankle boot\",\n",
    "]\n",
    "\n",
    "model.eval()\n",
    "item_idx = 125\n",
    "x, y = test_data[item_idx][0], test_data[item_idx][1]\n",
    "with torch.no_grad():\n",
    "    x = x.to(device)\n",
    "    pred = model(x)\n",
    "    predicted, actual = classes[pred[0].argmax(0)], classes[y]\n",
    "    print(f'Predicted: \"{predicted}\", Actual: \"{actual}\"')"
   ]
  }
 ],
 "metadata": {
  "kernelspec": {
   "display_name": "saturn (Python 3)",
   "language": "python",
   "name": "python3"
  },
  "language_info": {
   "codemirror_mode": {
    "name": "ipython",
    "version": 3
   },
   "file_extension": ".py",
   "mimetype": "text/x-python",
   "name": "python",
   "nbconvert_exporter": "python",
   "pygments_lexer": "ipython3",
   "version": "3.9.15"
  }
 },
 "nbformat": 4,
 "nbformat_minor": 5
}
