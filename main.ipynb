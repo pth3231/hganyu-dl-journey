{
 "cells": [
  {
   "cell_type": "code",
   "execution_count": null,
   "id": "77c8f339-d330-4142-b61e-43981758d77c",
   "metadata": {},
   "outputs": [],
   "source": [
    "import pytorch"
   ]
  }
 ],
 "metadata": {
  "kernelspec": {
   "display_name": "saturn (Python 3)",
   "language": "python",
   "name": "python3"
  },
  "language_info": {
   "codemirror_mode": {
    "name": "ipython",
    "version": 3
   },
   "file_extension": ".py",
   "mimetype": "text/x-python",
   "name": "python",
   "nbconvert_exporter": "python",
   "pygments_lexer": "ipython3",
   "version": "3.9.15"
  }
 },
 "nbformat": 4,
 "nbformat_minor": 5
}
