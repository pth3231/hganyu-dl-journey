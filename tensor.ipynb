{
 "cells": [
  {
   "cell_type": "code",
   "execution_count": 2,
   "id": "fd2656e2-210b-4ca8-bbf6-ba3047a217b2",
   "metadata": {
    "execution": {
     "iopub.execute_input": "2023-08-05T14:24:48.997059Z",
     "iopub.status.busy": "2023-08-05T14:24:48.996652Z",
     "iopub.status.idle": "2023-08-05T14:24:50.515793Z",
     "shell.execute_reply": "2023-08-05T14:24:50.515026Z",
     "shell.execute_reply.started": "2023-08-05T14:24:48.997031Z"
    },
    "tags": []
   },
   "outputs": [],
   "source": [
    "import torch\n",
    "import numpy"
   ]
  },
  {
   "cell_type": "code",
   "execution_count": 5,
   "id": "0e22c110-4c1b-4e17-ae5f-0f30469e9a17",
   "metadata": {
    "execution": {
     "iopub.execute_input": "2023-08-05T14:25:47.641956Z",
     "iopub.status.busy": "2023-08-05T14:25:47.641545Z",
     "iopub.status.idle": "2023-08-05T14:25:47.645960Z",
     "shell.execute_reply": "2023-08-05T14:25:47.645130Z",
     "shell.execute_reply.started": "2023-08-05T14:25:47.641930Z"
    },
    "tags": []
   },
   "outputs": [],
   "source": [
    "X = [[1, 2], [3, 4]]\n",
    "tensor_1 = torch.tensor(X)"
   ]
  },
  {
   "cell_type": "code",
   "execution_count": 15,
   "id": "2d52f5fe-3d53-486f-a1c9-f4656555e971",
   "metadata": {
    "execution": {
     "iopub.execute_input": "2023-08-05T14:26:57.766630Z",
     "iopub.status.busy": "2023-08-05T14:26:57.766219Z",
     "iopub.status.idle": "2023-08-05T14:26:57.772954Z",
     "shell.execute_reply": "2023-08-05T14:26:57.771930Z",
     "shell.execute_reply.started": "2023-08-05T14:26:57.766605Z"
    },
    "tags": []
   },
   "outputs": [
    {
     "data": {
      "text/plain": [
       "tensor([[0.7797, 0.9979, 0.1240],\n",
       "        [0.7426, 0.8126, 0.5506],\n",
       "        [0.9312, 0.2765, 0.3076]])"
      ]
     },
     "execution_count": 15,
     "metadata": {},
     "output_type": "execute_result"
    }
   ],
   "source": [
    "tensor_1.shape\n",
    "tensor_2 = torch.rand((3,3,))\n",
    "tensor_2"
   ]
  },
  {
   "cell_type": "code",
   "execution_count": 16,
   "id": "4ec97eda-ffa1-4c8e-85a3-82d2b913d62c",
   "metadata": {
    "execution": {
     "iopub.execute_input": "2023-08-05T14:27:31.371052Z",
     "iopub.status.busy": "2023-08-05T14:27:31.370662Z",
     "iopub.status.idle": "2023-08-05T14:27:31.376237Z",
     "shell.execute_reply": "2023-08-05T14:27:31.375441Z",
     "shell.execute_reply.started": "2023-08-05T14:27:31.371024Z"
    },
    "tags": []
   },
   "outputs": [
    {
     "data": {
      "text/plain": [
       "device(type='cpu')"
      ]
     },
     "execution_count": 16,
     "metadata": {},
     "output_type": "execute_result"
    }
   ],
   "source": [
    "tensor_2.device"
   ]
  },
  {
   "cell_type": "code",
   "execution_count": 17,
   "id": "961d6d82-e17b-4b93-b8cc-20065b3c356a",
   "metadata": {
    "execution": {
     "iopub.execute_input": "2023-08-05T14:28:42.431160Z",
     "iopub.status.busy": "2023-08-05T14:28:42.430722Z",
     "iopub.status.idle": "2023-08-05T14:28:42.436848Z",
     "shell.execute_reply": "2023-08-05T14:28:42.435950Z",
     "shell.execute_reply.started": "2023-08-05T14:28:42.431109Z"
    },
    "tags": []
   },
   "outputs": [
    {
     "data": {
      "text/plain": [
       "tensor(0.9979)"
      ]
     },
     "execution_count": 17,
     "metadata": {},
     "output_type": "execute_result"
    }
   ],
   "source": [
    "tensor_2[0][1]"
   ]
  }
 ],
 "metadata": {
  "kernelspec": {
   "display_name": "saturn (Python 3)",
   "language": "python",
   "name": "python3"
  },
  "language_info": {
   "codemirror_mode": {
    "name": "ipython",
    "version": 3
   },
   "file_extension": ".py",
   "mimetype": "text/x-python",
   "name": "python",
   "nbconvert_exporter": "python",
   "pygments_lexer": "ipython3",
   "version": "3.9.15"
  }
 },
 "nbformat": 4,
 "nbformat_minor": 5
}
